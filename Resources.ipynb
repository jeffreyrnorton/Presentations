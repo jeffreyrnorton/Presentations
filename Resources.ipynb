{
 "cells": [
  {
   "cell_type": "markdown",
   "metadata": {
    "collapsed": true,
    "slideshow": {
     "slide_type": "slide"
    }
   },
   "source": [
    "# Introduction\n",
    "\n",
    "## by Jeff Norton\n",
    "\n",
    "### A Presentation of (mostly) free resources for Data Scientist and Engineers"
   ]
  },
  {
   "cell_type": "markdown",
   "metadata": {
    "slideshow": {
     "slide_type": "slide"
    }
   },
   "source": [
    "# Coding Resources\n",
    "\n",
    "Been for an interview lately?  When faced with an interview, do the following:\n",
    "\n",
    "1. Typically, you are given a link.  Determine from the link which website you will be testing on.\n",
    "2. Join that website and code in the language of choice until you feel great.\n",
    "3. Ace the test!\n",
    "\n",
    "And sometimes you feel like a polyglot that just needs one more language!"
   ]
  },
  {
   "cell_type": "markdown",
   "metadata": {
    "slideshow": {
     "slide_type": "subslide"
    }
   },
   "source": [
    "## Hackerrank\n",
    "[www.hackerrank.com](http://www.hackerrank.com) - Typically smaller tests which can be worked through quickly.\n",
    "\n",
    "* Great site for Java tests.\n",
    "* Also supports C++, Python, Ruby, Linux Shell, SQL, Regex, Security\n",
    "* Also “Functional Programming” which is where you will find Scala\n",
    "* “Specialized Skills” including “Artificial Intelligence”.  AI in this case is writing bots – pretty cool for late-night hacking."
   ]
  },
  {
   "cell_type": "markdown",
   "metadata": {
    "slideshow": {
     "slide_type": "subslide"
    }
   },
   "source": [
    "## Codility\n",
    "[www.codility.com](http://www.codility.com) - Codility has in general just presents more difficult problems to solve than Hackerrank.\n",
    "\n",
    "* fewer lessons and difficult challenges.\n",
    "* All tests, lessons, and challenges are graded on correctness and performance.\n",
    "  * tests performance of algorithms, e.g., can you write O(n) code to do some task.\n",
    "* Many languages – not all are available on every test:\n",
    "  C, C++, C#, Go, Java, JavaScript, Lua, Objective-C, Pascal, PHP, Perl, Python, Ruby, Scala, Swift2, Swift3, Visual Basic"
   ]
  },
  {
   "cell_type": "markdown",
   "metadata": {
    "slideshow": {
     "slide_type": "slide"
    }
   },
   "source": [
    "# Notebooks\n",
    "Most of us are familiar with notebooks and here are some things I find cool about them.\n",
    "\n",
    "* A great way to develop ideas into code.\n",
    "* Wonderful for documentation and faqs.\n",
    "* Embed pictures, links.\n",
    "* Awesome support for Latex equations (which are really the only ones - honestly)."
   ]
  },
  {
   "cell_type": "markdown",
   "metadata": {
    "slideshow": {
     "slide_type": "subslide"
    }
   },
   "source": [
    "## Microsoft Azure (Free) Notebooks\n",
    "\n",
    "[https://notebooks.azure.com/](https://notebooks.azure.com/)\n",
    "\n",
    "Example: [A Blockchain Mathematics Notebook](https://blockchainmath-jrnorton11.notebooks.azure.com/nb/notebooks/BlockChainMath.ipynb)"
   ]
  },
  {
   "cell_type": "markdown",
   "metadata": {
    "slideshow": {
     "slide_type": "subslide"
    }
   },
   "source": [
    "### Azure Notebooks - The Good and the Bad\n",
    "\n",
    "* Uncool - No support for GPUs\n",
    "* Cool - **Free!**\n",
    "* Cool - Native support for TensorFlow, Keras, Numpy, Scikit-Learn, ...\n",
    "* Uncool - No support for GPUs - Training is painfully long.\n",
    "* Uncool - Logs out after about 6 hours - save often.\n",
    "* Cool - Supports Python 2, 3, 3.6, and F#.\n",
    "* Expected - Can save ipynb file to disk which can be uploaded to your github."
   ]
  },
  {
   "cell_type": "markdown",
   "metadata": {
    "slideshow": {
     "slide_type": "slide"
    }
   },
   "source": [
    "# Publicly Shared Notebooks\n",
    "\n",
    "One potential way to *nicely* share notebooks.\n",
    "1. Upload ipynb file to your github.\n",
    "2. You could view the file on github, but you can do better...\n",
    "3. Instead - view your file using the Jupyter Notebook viewer: [https://nbviewer.jupyter.org](https://nbviewer.jupyter.org/)\n",
    "\n",
    "Example: [Deep Nets with Keras](https://nbviewer.jupyter.org/github/jeffreyrnorton/Notebooks_MachineLearning/blob/master/DeepNetsWithKeras_ANN_LSTM.ipynb)"
   ]
  },
  {
   "cell_type": "markdown",
   "metadata": {
    "slideshow": {
     "slide_type": "slide"
    }
   },
   "source": [
    "# Spark\n",
    "\n",
    "Hadoop was a good start, but Spark and GCP are now the *en vogue* platforms for big data."
   ]
  },
  {
   "cell_type": "markdown",
   "metadata": {
    "slideshow": {
     "slide_type": "subslide"
    }
   },
   "source": [
    "## Learning Spark\n",
    "1. Learn Scala - use [Hackerrank](www.hackerrank.com), [Codility](www.codility.com).\n",
    "Also consider Jose Portilla's Spark class with Scala @ [Udemy](https://www.udemy.com/scala-and-spark-for-big-data-and-machine-learning/learn/v4/overview)\n",
    "2. Good Books?  Well - this one is pretty good - [\"Learning Spark\"](https://www.amazon.com/Learning-Spark-Lightning-Fast-Data-Analysis/dp/1449358624/ref=sr_1_3?ie=UTF8&qid=1525445788&sr=8-3&keywords=learning+spark)\n",
    "3. [Spark's Documentation](https://spark.apache.org/docs/latest/) looks organized, but it is hard to navigate.  Suggest using Google site search:  \n",
    "*site: https://spark.apache.org/docs/latest/ topic*"
   ]
  },
  {
   "cell_type": "markdown",
   "metadata": {
    "slideshow": {
     "slide_type": "subslide"
    }
   },
   "source": [
    "## Spark Certification\n",
    "\n",
    "* The [Hortonworks certification](https://hortonworks.com/services/training/certification/hdp-certified-spark-developer/) is one of the most regarded certifications.\n",
    "* [Topics - https://hortonworks.com/services/training/certification/exam-objectives/#hdpcdspark](https://hortonworks.com/services/training/certification/exam-objectives/#hdpcdspark)\n",
    "* [Prep Exam from Whizlabs](https://www.whizlabs.com/hdpca-certification/)\n"
   ]
  },
  {
   "cell_type": "markdown",
   "metadata": {
    "slideshow": {
     "slide_type": "subslide"
    }
   },
   "source": [
    "## Spark (Free) Notebook\n",
    "\n",
    "DataBricks Community Edition! Go to [https://databricks.com/try-databricks](https://databricks.com/try-databricks) and choose Community Edition to get started.\n",
    "\n",
    "Example: [https://community.cloud.databricks.com/?o=4291016648316448#notebook/2737741682449331/command/2737741682449332](https://community.cloud.databricks.com/?o=4291016648316448#notebook/2737741682449331/command/2737741682449332)\n"
   ]
  },
  {
   "cell_type": "code",
   "execution_count": null,
   "metadata": {},
   "outputs": [],
   "source": []
  }
 ],
 "metadata": {
  "celltoolbar": "Slideshow",
  "kernelspec": {
   "display_name": "Python 3.6",
   "language": "python",
   "name": "python36"
  },
  "language_info": {
   "codemirror_mode": {
    "name": "ipython",
    "version": 3
   },
   "file_extension": ".py",
   "mimetype": "text/x-python",
   "name": "python",
   "nbconvert_exporter": "python",
   "pygments_lexer": "ipython3",
   "version": "3.6.3"
  }
 },
 "nbformat": 4,
 "nbformat_minor": 2
}
